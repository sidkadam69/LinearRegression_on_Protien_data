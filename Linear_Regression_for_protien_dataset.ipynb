{
  "nbformat": 4,
  "nbformat_minor": 0,
  "metadata": {
    "colab": {
      "name": "Linear_Regression_for_protien_dataset.ipynb",
      "private_outputs": true,
      "provenance": []
    },
    "kernelspec": {
      "name": "python3",
      "display_name": "Python 3"
    },
    "language_info": {
      "name": "python"
    }
  },
  "cells": [
    {
      "cell_type": "code",
      "metadata": {
        "id": "XEYx-muViqrh"
      },
      "source": [
        "# import libraries\n",
        "import pandas as pd\n",
        "import numpy as np"
      ],
      "execution_count": null,
      "outputs": []
    },
    {
      "cell_type": "code",
      "metadata": {
        "id": "UghBq6Jxpacj"
      },
      "source": [
        "# split data and cross-validation\n",
        "from sklearn.model_selection import train_test_split, KFold,cross_val_score"
      ],
      "execution_count": null,
      "outputs": []
    },
    {
      "cell_type": "code",
      "metadata": {
        "id": "18any4vqpfP4"
      },
      "source": [
        "# OLS library for linear regression\n",
        "import statsmodels.api as sm"
      ],
      "execution_count": null,
      "outputs": []
    },
    {
      "cell_type": "code",
      "metadata": {
        "id": "YndalW_JpnN0"
      },
      "source": [
        "# visualisation\n",
        "import pylab\n",
        "import matplotlib.pyplot as plt\n",
        "import seaborn as sns\n"
      ],
      "execution_count": null,
      "outputs": []
    },
    {
      "cell_type": "code",
      "metadata": {
        "id": "CwIkF45xpvEg"
      },
      "source": [
        "from sklearn.metrics import mean_squared_error\n",
        "\n",
        "import scipy.stats as stats "
      ],
      "execution_count": null,
      "outputs": []
    },
    {
      "cell_type": "code",
      "metadata": {
        "id": "U2wHCSQzp6Na"
      },
      "source": [
        "# VIF\n",
        "from statsmodels.stats.outliers_influence import variance_inflation_factor"
      ],
      "execution_count": null,
      "outputs": []
    },
    {
      "cell_type": "code",
      "metadata": {
        "id": "oQD8g3h5p8f9"
      },
      "source": [
        "# feature selection for regression\n",
        "from sklearn.feature_selection import f_regression"
      ],
      "execution_count": null,
      "outputs": []
    },
    {
      "cell_type": "code",
      "metadata": {
        "id": "SdxZs0nXqCLo"
      },
      "source": [
        "# read the dataset\n",
        "path=\"/prot.csv\"\n",
        "prot=pd.read_csv(path)"
      ],
      "execution_count": null,
      "outputs": []
    },
    {
      "cell_type": "code",
      "metadata": {
        "id": "ot4gLBrmqzpQ"
      },
      "source": [
        "prot.head(3)"
      ],
      "execution_count": null,
      "outputs": []
    },
    {
      "cell_type": "code",
      "metadata": {
        "id": "NlqIRDcHqTXw"
      },
      "source": [
        "# to change the display settings (to get full view)\n",
        "pd.set_option('display.expand_frame_repr',False) #for IDE users as spyder shows small amount of data"
      ],
      "execution_count": null,
      "outputs": []
    },
    {
      "cell_type": "code",
      "metadata": {
        "id": "gVsveIadq68e"
      },
      "source": [
        "# remove the unwanted columns\n",
        "prot = prot.drop(['Unnamed: 0','X','X.1','s','t','u'],axis=1)\n",
        "prot.columns"
      ],
      "execution_count": null,
      "outputs": []
    },
    {
      "cell_type": "code",
      "metadata": {
        "id": "jXDNshQEq-ad"
      },
      "source": [
        "# dimension (R,C)\n",
        "prot.shape\n",
        "prot.shape[0] # total rows\n",
        "prot.shape[1] # total columns"
      ],
      "execution_count": null,
      "outputs": []
    },
    {
      "cell_type": "code",
      "metadata": {
        "id": "oelANHECrWUi"
      },
      "source": [
        "# head/tail\n",
        "prot.head(2)\n",
        "prot.tail(2)"
      ],
      "execution_count": null,
      "outputs": []
    },
    {
      "cell_type": "code",
      "metadata": {
        "id": "37s3TUnzrZpD"
      },
      "source": [
        "# data summary\n",
        "prot.describe()"
      ],
      "execution_count": null,
      "outputs": []
    },
    {
      "cell_type": "code",
      "metadata": {
        "id": "1OfQBZN8rb6o"
      },
      "source": [
        "# from summary, we see column 'ssp' has all the measures as 0. so we can remove it from the dataset\n",
        "prot = prot.drop('ssp',axis=1)"
      ],
      "execution_count": null,
      "outputs": []
    },
    {
      "cell_type": "code",
      "metadata": {
        "id": "8XoA_jQhrnu3"
      },
      "source": [
        "# check for NULLs\n",
        "prot.isnull().sum()\n",
        "\n",
        "print(prot)\n",
        "\n",
        "prot[['tot_surf_area','npe_area']][prot.npe_area.isnull()]"
      ],
      "execution_count": null,
      "outputs": []
    },
    {
      "cell_type": "code",
      "metadata": {
        "id": "NKBsZvlQrrKV"
      },
      "source": [
        "# impute 'npe_area' as tot_surf_area/3 where npe_area = NULL\n",
        "ndx = prot.npe_area[prot.npe_area.isnull()].index\n",
        "\n",
        "prot.npe_area[prot.npe_area.isnull()] = prot.tot_surf_area/3\n"
      ],
      "execution_count": null,
      "outputs": []
    },
    {
      "cell_type": "code",
      "metadata": {
        "id": "fFUsD-Q-ru3U"
      },
      "source": [
        "# verify the changes and check for Nulls again\n",
        "prot[['tot_surf_area','npe_area']][prot.index.isin(ndx)] \n",
        "prot.isnull().sum()\n",
        "\n",
        "prot.dtypes"
      ],
      "execution_count": null,
      "outputs": []
    },
    {
      "cell_type": "code",
      "metadata": {
        "id": "m1DkKP_SrxRo"
      },
      "source": [
        "# check for 0\n",
        "prot[prot==0].count()"
      ],
      "execution_count": null,
      "outputs": []
    },
    {
      "cell_type": "code",
      "metadata": {
        "id": "sVfoy3B3r1ne"
      },
      "source": [
        "# impute 'tot_surf_area' = npe_area * 3 where tot_surf_area = 0\n",
        "\n",
        "prot[['tot_surf_area','npe_area']][prot.tot_surf_area==0]\n",
        "ndx=prot[['tot_surf_area','npe_area']][prot.tot_surf_area==0].index"
      ],
      "execution_count": null,
      "outputs": []
    },
    {
      "cell_type": "code",
      "metadata": {
        "id": "bhwiWa9mr4Jy"
      },
      "source": [
        "# update\n",
        "prot.tot_surf_area[prot.tot_surf_area==0] = prot.npe_area*3"
      ],
      "execution_count": null,
      "outputs": []
    },
    {
      "cell_type": "code",
      "metadata": {
        "id": "KBiUhPU4r6M2"
      },
      "source": [
        "# verify the change\n",
        "prot[['tot_surf_area','npe_area']][prot.index.isin(ndx)]"
      ],
      "execution_count": null,
      "outputs": []
    },
    {
      "cell_type": "code",
      "metadata": {
        "id": "E47UOis7r9EO"
      },
      "source": [
        "# check for 0\n",
        "prot[prot==0].count()\n",
        "prot[['RMSD','fa_enppr']][prot.RMSD > 0].head(50).sort_values('RMSD')"
      ],
      "execution_count": null,
      "outputs": []
    },
    {
      "cell_type": "code",
      "metadata": {
        "id": "fViOHI4XsAIO"
      },
      "source": [
        "# since the Y-var has 0, drop these records\n",
        "ndx = prot[prot.RMSD==0].index\n",
        "len(ndx)\n",
        "\n",
        "print(\"before dropping rows, shape = \", prot.shape)\n",
        "prot = prot.drop(ndx,axis=0)\n",
        "print(\"after dropping rows, shape = \", prot.shape)\n",
        "\n",
        "prot[prot==0].count()"
      ],
      "execution_count": null,
      "outputs": []
    },
    {
      "cell_type": "code",
      "metadata": {
        "id": "ZIPpgNuesHv4"
      },
      "source": [
        "# check the distibution and outliers of features\n",
        "cols = list(prot.columns)\n",
        "cols.remove('RMSD')\n",
        "\n",
        "len(cols)"
      ],
      "execution_count": null,
      "outputs": []
    },
    {
      "cell_type": "code",
      "metadata": {
        "id": "u17GpupGsKRZ"
      },
      "source": [
        "# outliers\n",
        "prot.boxplot('tot_surf_area',vert=False)\n",
        "\n",
        "nrow=4; ncol=2; npos=1"
      ],
      "execution_count": null,
      "outputs": []
    },
    {
      "cell_type": "code",
      "metadata": {
        "id": "ieoBcuzAsL-7"
      },
      "source": [
        "# check distribution\n",
        "nrow=4; ncol=2; npos=1\n",
        "fig=plt.figure()\n",
        "for c in cols:\n",
        "    fig.add_subplot(nrow,ncol,npos)\n",
        "    sns.distplot(prot[c])\n",
        "    npos+=1"
      ],
      "execution_count": null,
      "outputs": []
    },
    {
      "cell_type": "code",
      "metadata": {
        "id": "M4rUfB6Fsaoy"
      },
      "source": [
        "# Agistino-Pearson test for normality\n",
        "# H0: normal distribution\n",
        "# H1: not a normal distribution\n",
        "\n",
        "from scipy.stats import normaltest\n",
        "\n",
        "# create a k-v pair to store column names and its corresponding distribution type (Normal/Not Normal)\n",
        "aptest = {}\n",
        "\n",
        "for c in cols:\n",
        "    tstat,pval = normaltest(prot[c])\n",
        "    if pval < 0.05:\n",
        "        aptest[c] = \"Not Normal\"\n",
        "    else:\n",
        "        aptest[c] = \"Normal\"\n",
        "\n",
        "print(aptest)"
      ],
      "execution_count": null,
      "outputs": []
    },
    {
      "cell_type": "code",
      "metadata": {
        "id": "JHunxOxHspkW"
      },
      "source": [
        "# correlation matrix - take only the lower triangle. \n",
        "# then plot the heatmap to check collinearity\n",
        "cor = prot[cols].corr()\n",
        "cor = np.tril(cor)\n",
        "sns.heatmap(cor,xticklabels=cols,yticklabels=cols,\n",
        "            vmin=-1,vmax=1,annot=True,square=False)\n",
        "plt.title(\"Correlation Matrix\")"
      ],
      "execution_count": null,
      "outputs": []
    },
    {
      "cell_type": "code",
      "metadata": {
        "id": "qqsANVcRtQh-"
      },
      "source": [
        "# for linear regression, data types have to be numeric\n",
        "prot.dtypes"
      ],
      "execution_count": null,
      "outputs": []
    },
    {
      "cell_type": "code",
      "metadata": {
        "id": "8LtA9Syxs0Zc"
      },
      "source": [
        "# split the data into train/test\n",
        "# trainx/trainy, testx/testy\n",
        "\n",
        "trainx,testx,trainy,testy = train_test_split(prot.drop('RMSD',axis=1),\n",
        "                                             prot['RMSD'],\n",
        "                                             test_size=0.3 )\n",
        "\n",
        "print(\"trainx={},trainy={},testx={},testy={}\".format(trainx.shape,trainy.shape,testx.shape,testy.shape))"
      ],
      "execution_count": null,
      "outputs": []
    },
    {
      "cell_type": "code",
      "metadata": {
        "id": "ssu-d5X7tENF"
      },
      "source": [
        "# Add a constant term to the trainx and testx\n",
        "# this will ensure that the model summary has the 'intercept' term displayed\n",
        "\n",
        "trainx = sm.add_constant(trainx)\n",
        "testx = sm.add_constant(testx)"
      ],
      "execution_count": null,
      "outputs": []
    },
    {
      "cell_type": "code",
      "metadata": {
        "id": "E_gbapqptaTS"
      },
      "source": [
        "# Linear Regression model building\n",
        "# OLS -> Ordinary Least Square method\n",
        "m1=sm.OLS(trainy,trainx).fit()"
      ],
      "execution_count": null,
      "outputs": []
    },
    {
      "cell_type": "code",
      "metadata": {
        "id": "VOBVFRGotdfG"
      },
      "source": [
        "# summarise the model\n",
        "m1.summary()\n",
        "\n",
        "\n",
        "# validation of LR assumptions\n",
        "# i) mean of reisduals = 0\n",
        "print(m1.resid.mean())"
      ],
      "execution_count": null,
      "outputs": []
    },
    {
      "cell_type": "code",
      "metadata": {
        "id": "9k5Ff-5qtgHa"
      },
      "source": [
        "print(m1.rsquared)\n",
        "print(m1.rsquared_adj)"
      ],
      "execution_count": null,
      "outputs": []
    },
    {
      "cell_type": "code",
      "metadata": {
        "id": "EEHeIYuip-ex"
      },
      "source": [
        "# ii) residuals have constant variance (homoscedasticity)\n",
        "# plot the graph\n",
        "# lowess->locally weighted scatterplot smoothing\n",
        "yhat = m1.predict(trainx)\n",
        "sns.set(style=\"whitegrid\")\n",
        "sns.residplot(m1.resid,yhat,lowess=True,color='g')\n"
      ],
      "execution_count": null,
      "outputs": []
    },
    {
      "cell_type": "code",
      "metadata": {
        "id": "_xi0WnUAtzDQ"
      },
      "source": [
        "# based on the graph, the model is heteroscedastic\n",
        "# bruesch-pagan test against heteroscedasticty\n",
        "import statsmodels.stats.api as sms\n",
        "# H0: homoscedasticity\n",
        "# H1: heteroscedasticity\n",
        "\n",
        "# return value of breusch pagan test\n",
        "# lagrange_multiplier, pvalue, fscore, fp-value\n",
        "\n",
        "# parameters: [residuals, x-array]\n",
        "pval = sms.het_breuschpagan(m1.resid,m1.model.exog)[1]\n",
        "if pval < 0.05:\n",
        "    print(\"Reject H0. Model is Heteroscedastic\")\n",
        "else:\n",
        "    print(\"FTR H0. Model is Homoscedastic\")\n",
        "    "
      ],
      "execution_count": null,
      "outputs": []
    },
    {
      "cell_type": "code",
      "metadata": {
        "id": "UbpPR_l-uJB6"
      },
      "source": [
        "# iii) Residuals have a normal distribution\n",
        "stats.probplot(m1.resid, dist='norm', plot=pylab)\n",
        "pylab.show()\n",
        "    \n",
        "# iv) rows > columns\n",
        "prot.shape    "
      ],
      "execution_count": null,
      "outputs": []
    },
    {
      "cell_type": "code",
      "metadata": {
        "id": "KUYFbn2cuP5m"
      },
      "source": [
        "# k-Fold Cross-Validation    \n",
        "\n",
        "folds=5    \n",
        "cv_mse = []"
      ],
      "execution_count": null,
      "outputs": []
    },
    {
      "cell_type": "code",
      "metadata": {
        "id": "80ZEwrBcuda9"
      },
      "source": [
        "X=trainx.values\n",
        "Y=trainy.values\n",
        "\n",
        "kf= KFold(folds)\n",
        "kf.get_n_splits(X)"
      ],
      "execution_count": null,
      "outputs": []
    },
    {
      "cell_type": "code",
      "metadata": {
        "id": "MPAZmfe9ug-n"
      },
      "source": [
        "for train_index,test_index in kf.split(X):\n",
        "    cv_trainx,cv_trainy = X[train_index],Y[train_index]\n",
        "    cv_testx, cv_testy =  X[test_index],Y[test_index]\n",
        "    \n",
        "    # build model on cv_train and predict on cv_test\n",
        "    m = sm.OLS(cv_trainy,cv_trainx).fit()\n",
        "    p = m.predict(cv_testx)\n",
        "    \n",
        "    # store MSE in the list for each model\n",
        "    cv_mse.append(np.round(mean_squared_error(cv_testy,p),3))\n",
        "    \n",
        "cv_mse"
      ],
      "execution_count": null,
      "outputs": []
    },
    {
      "cell_type": "code",
      "metadata": {
        "id": "bHR8IBjBumZB"
      },
      "source": [
        "# mean MSE of k-Fold CV\n",
        "np.mean(cv_mse) "
      ],
      "execution_count": null,
      "outputs": []
    },
    {
      "cell_type": "code",
      "metadata": {
        "id": "rEgZ6gbvuqSP"
      },
      "source": [
        "# prediction on the test data\n",
        "p1 = m1.predict(testx)\n",
        "\n",
        "# MSE of model 1\n",
        "mse1 = round(mean_squared_error(testy,p1),3)"
      ],
      "execution_count": null,
      "outputs": []
    },
    {
      "cell_type": "code",
      "metadata": {
        "id": "npGy51rkut9_"
      },
      "source": [
        "# compare the train and test errors\n",
        "print(\"Training MSE = {}, Testing MSE = {}\".format(np.mean(cv_mse),mse1))\n",
        "\n",
        "# store the actual and predicted data for comparison\n",
        "df = pd.DataFrame({'actual':testy,'predicted':round(p1,3)})\n",
        "df.head(30)"
      ],
      "execution_count": null,
      "outputs": []
    },
    {
      "cell_type": "code",
      "metadata": {
        "id": "xA1NeLHhuyTS"
      },
      "source": [
        "# plot the actual and predicted values\n",
        "ax1=sns.distplot(testy,hist=False,color='blue',label='Actual')\n",
        "sns.distplot(p1,hist=False,color='red',label='Predicted',ax=ax1)\n"
      ],
      "execution_count": null,
      "outputs": []
    },
    {
      "cell_type": "code",
      "metadata": {
        "id": "TZXlma8gu1nJ"
      },
      "source": [
        "# other considerations\n",
        "# VIF (Variance Inflation Factor)\n",
        "vif = pd.DataFrame()\n",
        "vif[\"inflation\"] = [variance_inflation_factor(trainx.values,i) \n",
        "for i in range(trainx.shape[1])]\n",
        "\n",
        "vif['features'] = list(trainx.columns)"
      ],
      "execution_count": null,
      "outputs": []
    },
    {
      "cell_type": "code",
      "metadata": {
        "id": "bAlY3vr8vHG0"
      },
      "source": [
        "# consider VIF > 10 to remove collinearity\n",
        "# sometimes VIF > 6 is also taken as the cutoff\n",
        "\n",
        "# build the next model with the significant features and compare the models for the RMSE\n",
        "\n",
        "\n",
        "# Box Cox transformation\n",
        "from scipy.stats import boxcox\n",
        "\n",
        "# transform data into BoxCox transformed data\n",
        "d = np.round(np.random.uniform(10,200,100),2)\n",
        "bc_values,lamda = boxcox(d)\n",
        "bc_values\n",
        "lamda"
      ],
      "execution_count": null,
      "outputs": []
    },
    {
      "cell_type": "code",
      "metadata": {
        "id": "YsnZVX82vJ-N"
      },
      "source": [
        "bc1 = bc_values[0]\n",
        "bc1"
      ],
      "execution_count": null,
      "outputs": []
    },
    {
      "cell_type": "code",
      "metadata": {
        "id": "YAyeCpvTvNIa"
      },
      "source": [
        "# compare the original and transformed data\n",
        "print('actual={},BoxCox={}'.format(d[0],round(bc1,2)))\n",
        "\n",
        "# transform BoxCox data into its original form\n",
        "orig = np.exp(np.log(bc1 * lamda+1)/lamda)\n",
        "orig"
      ],
      "execution_count": null,
      "outputs": []
    },
    {
      "cell_type": "code",
      "metadata": {
        "id": "Cr-yUj9IvPL_"
      },
      "source": [
        "# This illustration of Linear regression is for basic understanding of Linear regression model and how to use."
      ],
      "execution_count": null,
      "outputs": []
    },
    {
      "cell_type": "code",
      "metadata": {
        "id": "_kgclNbgufSS"
      },
      "source": [
        ""
      ],
      "execution_count": null,
      "outputs": []
    }
  ]
}